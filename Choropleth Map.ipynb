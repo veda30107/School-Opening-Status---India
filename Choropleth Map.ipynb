{
 "cells": [
  {
   "cell_type": "code",
   "execution_count": 1,
   "id": "f4ae3499",
   "metadata": {},
   "outputs": [],
   "source": [
    "import json\n",
    "import pandas as pd\n",
    "import plotly.express as px"
   ]
  },
  {
   "cell_type": "code",
   "execution_count": 3,
   "id": "c234371e",
   "metadata": {},
   "outputs": [],
   "source": [
    "with open(r'/home/veda/Videos/Custom map/test/Data/Indian States and Union Territories.geojson') as f:\n",
    "    data1 = json.load(f)"
   ]
  },
  {
   "cell_type": "code",
   "execution_count": 4,
   "id": "48840323",
   "metadata": {},
   "outputs": [
    {
     "data": {
      "text/plain": [
       "{'ST_NM': 'Arunachal Pradesh', 'st_code': 12}"
      ]
     },
     "execution_count": 4,
     "metadata": {},
     "output_type": "execute_result"
    }
   ],
   "source": [
    "data1[\"features\"][0][\"properties\"]"
   ]
  },
  {
   "cell_type": "code",
   "execution_count": 5,
   "id": "5af2e295",
   "metadata": {},
   "outputs": [],
   "source": [
    "state_id_map={}\n",
    "for feature in data1['features']:\n",
    "    feature['id']=feature['properties']['st_code']\n",
    "    state_id_map[feature['properties']['ST_NM']]= feature['id']"
   ]
  },
  {
   "cell_type": "code",
   "execution_count": 6,
   "id": "66dc93c4",
   "metadata": {},
   "outputs": [],
   "source": [
    "df = pd.read_csv('/home/veda/Videos/Custom map/test/Nov/EE policy tracker - SO_LPS.csv')\n",
    "df['State_Code']=df['State Name'].apply(lambda x: state_id_map[x])"
   ]
  },
  {
   "cell_type": "code",
   "execution_count": 7,
   "id": "39b4b88b",
   "metadata": {},
   "outputs": [
    {
     "data": {
      "text/html": [
       "<div>\n",
       "<style scoped>\n",
       "    .dataframe tbody tr th:only-of-type {\n",
       "        vertical-align: middle;\n",
       "    }\n",
       "\n",
       "    .dataframe tbody tr th {\n",
       "        vertical-align: top;\n",
       "    }\n",
       "\n",
       "    .dataframe thead th {\n",
       "        text-align: right;\n",
       "    }\n",
       "</style>\n",
       "<table border=\"1\" class=\"dataframe\">\n",
       "  <thead>\n",
       "    <tr style=\"text-align: right;\">\n",
       "      <th></th>\n",
       "      <th>State Name</th>\n",
       "      <th>Status last changed on</th>\n",
       "      <th>Status</th>\n",
       "      <th>Additional Info</th>\n",
       "      <th>Month</th>\n",
       "      <th>State_Code</th>\n",
       "    </tr>\n",
       "  </thead>\n",
       "  <tbody>\n",
       "    <tr>\n",
       "      <th>0</th>\n",
       "      <td>Andaman &amp; Nicobar</td>\n",
       "      <td>Not Available</td>\n",
       "      <td>Not Available</td>\n",
       "      <td>None</td>\n",
       "      <td>15th October 2021</td>\n",
       "      <td>35</td>\n",
       "    </tr>\n",
       "    <tr>\n",
       "      <th>1</th>\n",
       "      <td>Andhra Pradesh</td>\n",
       "      <td>16/08/21</td>\n",
       "      <td>Fully open</td>\n",
       "      <td>20 per classroom, alternate days where strengt...</td>\n",
       "      <td>15th October 2021</td>\n",
       "      <td>37</td>\n",
       "    </tr>\n",
       "    <tr>\n",
       "      <th>2</th>\n",
       "      <td>Arunachal Pradesh</td>\n",
       "      <td>13/09/21</td>\n",
       "      <td>Fully open</td>\n",
       "      <td>None</td>\n",
       "      <td>15th October 2021</td>\n",
       "      <td>12</td>\n",
       "    </tr>\n",
       "    <tr>\n",
       "      <th>3</th>\n",
       "      <td>Assam</td>\n",
       "      <td>28/09/21</td>\n",
       "      <td>Fully shut</td>\n",
       "      <td>Classes 1 to 8 and Class 11 to start from Oct 19</td>\n",
       "      <td>15th October 2021</td>\n",
       "      <td>18</td>\n",
       "    </tr>\n",
       "    <tr>\n",
       "      <th>4</th>\n",
       "      <td>Bihar</td>\n",
       "      <td>16/08/21</td>\n",
       "      <td>Fully open</td>\n",
       "      <td>50% capacity, students attend on alternate days</td>\n",
       "      <td>15th October 2021</td>\n",
       "      <td>10</td>\n",
       "    </tr>\n",
       "  </tbody>\n",
       "</table>\n",
       "</div>"
      ],
      "text/plain": [
       "          State Name Status last changed on         Status  \\\n",
       "0  Andaman & Nicobar          Not Available  Not Available   \n",
       "1     Andhra Pradesh               16/08/21     Fully open   \n",
       "2  Arunachal Pradesh               13/09/21     Fully open   \n",
       "3              Assam               28/09/21     Fully shut   \n",
       "4              Bihar               16/08/21     Fully open   \n",
       "\n",
       "                                     Additional Info              Month  \\\n",
       "0                                               None  15th October 2021   \n",
       "1  20 per classroom, alternate days where strengt...  15th October 2021   \n",
       "2                                               None  15th October 2021   \n",
       "3   Classes 1 to 8 and Class 11 to start from Oct 19  15th October 2021   \n",
       "4    50% capacity, students attend on alternate days  15th October 2021   \n",
       "\n",
       "   State_Code  \n",
       "0          35  \n",
       "1          37  \n",
       "2          12  \n",
       "3          18  \n",
       "4          10  "
      ]
     },
     "execution_count": 7,
     "metadata": {},
     "output_type": "execute_result"
    }
   ],
   "source": [
    "df.head()"
   ]
  },
  {
   "cell_type": "code",
   "execution_count": 8,
   "id": "83e368fb",
   "metadata": {},
   "outputs": [],
   "source": [
    "import plotly.io as pio\n",
    "pio.renderers.default = 'firefox'"
   ]
  },
  {
   "cell_type": "code",
   "execution_count": 9,
   "id": "07fc8bd3",
   "metadata": {},
   "outputs": [],
   "source": [
    "color_discrete_map = {'Fully shut': 'rgb(255, 49, 49)', 'Fully open': 'rgb(80,200,120)', 'Partially open': 'rgb(255,191,0)', 'Not Available':'rgb(168,168,168)'}"
   ]
  },
  {
   "cell_type": "code",
   "execution_count": 10,
   "id": "ed31a8bd",
   "metadata": {},
   "outputs": [],
   "source": [
    "fig = px.choropleth_mapbox(df, locations='State_Code', geojson=data1,color='Status',\n",
    "                          hover_name='State Name',hover_data=['Status last changed on','Additional Info'],\n",
    "                          mapbox_style=\"carto-positron\", center = {'lat': 25, 'lon':79},\n",
    "                          opacity=1, color_discrete_map=color_discrete_map, zoom=3,height=650,\n",
    "                          animation_frame=\"Month\")\n",
    "\n",
    "fig.update_layout(hovermode='x unified', legend=dict(title= None), hoverlabel=dict(bgcolor='rgba(255,255,255,0.75)',\n",
    "                                                                                  font=dict(color='black')))\n",
    "\n",
    "fig.update_geos(fitbounds=\"locations\",visible=False)\n",
    "\n",
    "fig.show()"
   ]
  },
  {
   "cell_type": "code",
   "execution_count": 11,
   "id": "6fc3324e",
   "metadata": {},
   "outputs": [],
   "source": [
    "fig.write_html(\"/home/veda/Videos/Custom map/test/Nov/new/map.html\",include_plotlyjs=\"cdn\")"
   ]
  },
  {
   "cell_type": "code",
   "execution_count": null,
   "id": "6c9822d0",
   "metadata": {},
   "outputs": [],
   "source": []
  }
 ],
 "metadata": {
  "kernelspec": {
   "display_name": "Python 3",
   "language": "python",
   "name": "python3"
  },
  "language_info": {
   "codemirror_mode": {
    "name": "ipython",
    "version": 3
   },
   "file_extension": ".py",
   "mimetype": "text/x-python",
   "name": "python",
   "nbconvert_exporter": "python",
   "pygments_lexer": "ipython3",
   "version": "3.8.8"
  }
 },
 "nbformat": 4,
 "nbformat_minor": 5
}
